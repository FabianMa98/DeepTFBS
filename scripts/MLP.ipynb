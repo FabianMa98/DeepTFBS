{
 "cells": [
  {
   "cell_type": "code",
   "execution_count": 4,
   "id": "4be8ee85-3673-40f1-8956-a68ea775200f",
   "metadata": {},
   "outputs": [],
   "source": [
    "# import numpy as np\n",
    "import pandas as pd\n",
    "import numpy as np\n",
    "\n",
    "from sklearn.neural_network import MLPClassifier\n",
    "from sklearn.model_selection import train_test_split"
   ]
  },
  {
   "cell_type": "code",
   "execution_count": 5,
   "id": "ded74001-bd28-4f63-ab5d-161a5eafdff1",
   "metadata": {},
   "outputs": [],
   "source": [
    "dataset = pd.read_table(\"C:/Users/Fabian/Desktop/TFs.tsv\", index_col = 0)"
   ]
  },
  {
   "cell_type": "code",
   "execution_count": 6,
   "id": "863140f9-b9fe-46fa-bd76-17ed61e41ff0",
   "metadata": {},
   "outputs": [],
   "source": [
    "AA_LIST = ['-', 'A', 'C', 'D', 'E', 'F', 'G', 'H', 'I', 'K', 'L', 'M', 'N', 'P', 'Q', 'R', 'S', 'T', 'V', 'W', 'Y']\n",
    "#Generate onehot encoded\n",
    "n = len(AA_LIST)\n",
    "\n",
    "def protein_onehot(alphabet, mask = None):\n",
    "    #Create identity matrix according\n",
    "    onehot_identity = np.eye(N = len(alphabet))\n",
    "    if mask:\n",
    "        idx = alphabet.index(mask)\n",
    "        for i, elem in enumerate(onehot_identity[idx]):\n",
    "            if elem == 1:\n",
    "                onehot_identity[idx][i] = 0\n",
    "    encode_lookup = {}\n",
    "    for i, item in enumerate(alphabet):\n",
    "        encode_lookup[item] = list(onehot_identity[i])\n",
    "    \n",
    "    return encode_lookup\n",
    "\n",
    "table = protein_onehot(alphabet = AA_LIST, mask = \"-\")\n",
    "def ohe_by_seq(seq, encoder = table):\n",
    "    seq = seq.upper()\n",
    "    encoded_seq = np.zeros(shape = (len(seq), len(encoder)))\n",
    "    for i, item in enumerate(seq):\n",
    "        if item in encoder.keys():\n",
    "            encoded_seq[i] = encoder[item]\n",
    "        else:\n",
    "            encoded_seq[i] = encoder[\"-\"] # replace with mask\n",
    "\n",
    "    return encoded_seq.astype(\"int8\")\n",
    "\n",
    "def pad_seq(seq):\n",
    "    mask = '-'\n",
    "    max_len = 500\n",
    "    pad_seqs = seq[:max_len] if len(seq) > max_len else seq + mask * (max_len - len(seq))\n",
    "\n",
    "    return pad_seqs"
   ]
  },
  {
   "cell_type": "code",
   "execution_count": 7,
   "id": "412a1a59-40c8-402b-abf0-87e65f5cf3e7",
   "metadata": {},
   "outputs": [
    {
     "name": "stderr",
     "output_type": "stream",
     "text": [
      "C:\\Users\\Fabian\\AppData\\Local\\Temp\\ipykernel_1104\\2415196673.py:2: SettingWithCopyWarning: \n",
      "A value is trying to be set on a copy of a slice from a DataFrame.\n",
      "Try using .loc[row_indexer,col_indexer] = value instead\n",
      "\n",
      "See the caveats in the documentation: https://pandas.pydata.org/pandas-docs/stable/user_guide/indexing.html#returning-a-view-versus-a-copy\n",
      "  features[\"seqs\"] = features[\"seqs\"].apply(pad_seq)\n"
     ]
    }
   ],
   "source": [
    "features = dataset[[\"seqs\", \"marker\"]]\n",
    "features[\"seqs\"] = features[\"seqs\"].apply(pad_seq)"
   ]
  },
  {
   "cell_type": "code",
   "execution_count": 8,
   "id": "ac1792c3-0a5a-4c75-92ad-7466e1f4ec41",
   "metadata": {},
   "outputs": [],
   "source": [
    "n = 15\n",
    "percent = features.head(int(len(features)*(n/100)))\n",
    "encoded_seqs = percent[\"seqs\"].apply(ohe_by_seq)"
   ]
  },
  {
   "cell_type": "code",
   "execution_count": 9,
   "id": "f3bf53d9-452a-49cf-b97f-b6aba241c64d",
   "metadata": {},
   "outputs": [
    {
     "name": "stderr",
     "output_type": "stream",
     "text": [
      "C:\\Users\\Fabian\\AppData\\Local\\Temp\\ipykernel_1104\\3748945313.py:1: SettingWithCopyWarning: \n",
      "A value is trying to be set on a copy of a slice from a DataFrame.\n",
      "Try using .loc[row_indexer,col_indexer] = value instead\n",
      "\n",
      "See the caveats in the documentation: https://pandas.pydata.org/pandas-docs/stable/user_guide/indexing.html#returning-a-view-versus-a-copy\n",
      "  percent[\"enc\"] = encoded_seqs\n"
     ]
    }
   ],
   "source": [
    "percent[\"enc\"] = encoded_seqs"
   ]
  },
  {
   "cell_type": "code",
   "execution_count": 10,
   "id": "3dccfaa6-52fb-4e9a-8277-9cb740ade142",
   "metadata": {},
   "outputs": [
    {
     "data": {
      "text/html": [
       "<div>\n",
       "<style scoped>\n",
       "    .dataframe tbody tr th:only-of-type {\n",
       "        vertical-align: middle;\n",
       "    }\n",
       "\n",
       "    .dataframe tbody tr th {\n",
       "        vertical-align: top;\n",
       "    }\n",
       "\n",
       "    .dataframe thead th {\n",
       "        text-align: right;\n",
       "    }\n",
       "</style>\n",
       "<table border=\"1\" class=\"dataframe\">\n",
       "  <thead>\n",
       "    <tr style=\"text-align: right;\">\n",
       "      <th></th>\n",
       "      <th>seqs</th>\n",
       "      <th>marker</th>\n",
       "      <th>enc</th>\n",
       "    </tr>\n",
       "  </thead>\n",
       "  <tbody>\n",
       "    <tr>\n",
       "      <th>0</th>\n",
       "      <td>MAFSAEDVLKEYDRRRRMEALLLSLYYPNDRKLLDYKEWSPPRVQV...</td>\n",
       "      <td>TF</td>\n",
       "      <td>[[0, 0, 0, 0, 0, 0, 0, 0, 0, 0, 0, 1, 0, 0, 0,...</td>\n",
       "    </tr>\n",
       "    <tr>\n",
       "      <th>117</th>\n",
       "      <td>MSFQRDYESEWNAALIEEYGEGGSGFSHGRFASLRMCEQRLYRPPG...</td>\n",
       "      <td>TF</td>\n",
       "      <td>[[0, 0, 0, 0, 0, 0, 0, 0, 0, 0, 0, 1, 0, 0, 0,...</td>\n",
       "    </tr>\n",
       "    <tr>\n",
       "      <th>3419</th>\n",
       "      <td>MERLKRMSVFAKVVEFGSFTAAARQLQMSVSSISQTVSKLEDELQV...</td>\n",
       "      <td>TF</td>\n",
       "      <td>[[0, 0, 0, 0, 0, 0, 0, 0, 0, 0, 0, 1, 0, 0, 0,...</td>\n",
       "    </tr>\n",
       "    <tr>\n",
       "      <th>3420</th>\n",
       "      <td>MERLKRMSVFAKVVEFGSFTAAARQLQMSVSSISQTVSKLEDELQV...</td>\n",
       "      <td>TF</td>\n",
       "      <td>[[0, 0, 0, 0, 0, 0, 0, 0, 0, 0, 0, 1, 0, 0, 0,...</td>\n",
       "    </tr>\n",
       "    <tr>\n",
       "      <th>3421</th>\n",
       "      <td>MERLKRMSVFAKVVEFGSFTAAARQLQMSVSSISQTVSKLEDELQV...</td>\n",
       "      <td>TF</td>\n",
       "      <td>[[0, 0, 0, 0, 0, 0, 0, 0, 0, 0, 0, 1, 0, 0, 0,...</td>\n",
       "    </tr>\n",
       "    <tr>\n",
       "      <th>...</th>\n",
       "      <td>...</td>\n",
       "      <td>...</td>\n",
       "      <td>...</td>\n",
       "    </tr>\n",
       "    <tr>\n",
       "      <th>84453</th>\n",
       "      <td>MNISDVAKITGLTSKAIRFYEEKGLVTPPMRSENGYRTYTQQHLNE...</td>\n",
       "      <td>TF</td>\n",
       "      <td>[[0, 0, 0, 0, 0, 0, 0, 0, 0, 0, 0, 1, 0, 0, 0,...</td>\n",
       "    </tr>\n",
       "    <tr>\n",
       "      <th>84454</th>\n",
       "      <td>MNISQIAKLTSLTAKSIRLYEEKGLIIPPLRSESGYRTYTQQHVDD...</td>\n",
       "      <td>TF</td>\n",
       "      <td>[[0, 0, 0, 0, 0, 0, 0, 0, 0, 0, 0, 1, 0, 0, 0,...</td>\n",
       "    </tr>\n",
       "    <tr>\n",
       "      <th>84455</th>\n",
       "      <td>MNISQIAKLTSLTAKSIRLYEEKGLIIPPLRSESGYRTYTQQHVDD...</td>\n",
       "      <td>TF</td>\n",
       "      <td>[[0, 0, 0, 0, 0, 0, 0, 0, 0, 0, 0, 1, 0, 0, 0,...</td>\n",
       "    </tr>\n",
       "    <tr>\n",
       "      <th>84456</th>\n",
       "      <td>MNISDVAKKTGLTSKAIRFYEEKKLVTPPVRTDNGYRSYTAKHIEE...</td>\n",
       "      <td>TF</td>\n",
       "      <td>[[0, 0, 0, 0, 0, 0, 0, 0, 0, 0, 0, 1, 0, 0, 0,...</td>\n",
       "    </tr>\n",
       "    <tr>\n",
       "      <th>84472</th>\n",
       "      <td>MVLINDKKFACEKCIKGHRVSACTHTDRPLFEVKKKGRPSTQCRHC...</td>\n",
       "      <td>TF</td>\n",
       "      <td>[[0, 0, 0, 0, 0, 0, 0, 0, 0, 0, 0, 1, 0, 0, 0,...</td>\n",
       "    </tr>\n",
       "  </tbody>\n",
       "</table>\n",
       "<p>814 rows × 3 columns</p>\n",
       "</div>"
      ],
      "text/plain": [
       "                                                    seqs marker  \\\n",
       "0      MAFSAEDVLKEYDRRRRMEALLLSLYYPNDRKLLDYKEWSPPRVQV...     TF   \n",
       "117    MSFQRDYESEWNAALIEEYGEGGSGFSHGRFASLRMCEQRLYRPPG...     TF   \n",
       "3419   MERLKRMSVFAKVVEFGSFTAAARQLQMSVSSISQTVSKLEDELQV...     TF   \n",
       "3420   MERLKRMSVFAKVVEFGSFTAAARQLQMSVSSISQTVSKLEDELQV...     TF   \n",
       "3421   MERLKRMSVFAKVVEFGSFTAAARQLQMSVSSISQTVSKLEDELQV...     TF   \n",
       "...                                                  ...    ...   \n",
       "84453  MNISDVAKITGLTSKAIRFYEEKGLVTPPMRSENGYRTYTQQHLNE...     TF   \n",
       "84454  MNISQIAKLTSLTAKSIRLYEEKGLIIPPLRSESGYRTYTQQHVDD...     TF   \n",
       "84455  MNISQIAKLTSLTAKSIRLYEEKGLIIPPLRSESGYRTYTQQHVDD...     TF   \n",
       "84456  MNISDVAKKTGLTSKAIRFYEEKKLVTPPVRTDNGYRSYTAKHIEE...     TF   \n",
       "84472  MVLINDKKFACEKCIKGHRVSACTHTDRPLFEVKKKGRPSTQCRHC...     TF   \n",
       "\n",
       "                                                     enc  \n",
       "0      [[0, 0, 0, 0, 0, 0, 0, 0, 0, 0, 0, 1, 0, 0, 0,...  \n",
       "117    [[0, 0, 0, 0, 0, 0, 0, 0, 0, 0, 0, 1, 0, 0, 0,...  \n",
       "3419   [[0, 0, 0, 0, 0, 0, 0, 0, 0, 0, 0, 1, 0, 0, 0,...  \n",
       "3420   [[0, 0, 0, 0, 0, 0, 0, 0, 0, 0, 0, 1, 0, 0, 0,...  \n",
       "3421   [[0, 0, 0, 0, 0, 0, 0, 0, 0, 0, 0, 1, 0, 0, 0,...  \n",
       "...                                                  ...  \n",
       "84453  [[0, 0, 0, 0, 0, 0, 0, 0, 0, 0, 0, 1, 0, 0, 0,...  \n",
       "84454  [[0, 0, 0, 0, 0, 0, 0, 0, 0, 0, 0, 1, 0, 0, 0,...  \n",
       "84455  [[0, 0, 0, 0, 0, 0, 0, 0, 0, 0, 0, 1, 0, 0, 0,...  \n",
       "84456  [[0, 0, 0, 0, 0, 0, 0, 0, 0, 0, 0, 1, 0, 0, 0,...  \n",
       "84472  [[0, 0, 0, 0, 0, 0, 0, 0, 0, 0, 0, 1, 0, 0, 0,...  \n",
       "\n",
       "[814 rows x 3 columns]"
      ]
     },
     "execution_count": 10,
     "metadata": {},
     "output_type": "execute_result"
    }
   ],
   "source": [
    "percent[percent[\"marker\"] == \"TF\"]"
   ]
  },
  {
   "cell_type": "code",
   "execution_count": 11,
   "id": "0d992151-aa1f-43ad-9369-e42fa7f0173a",
   "metadata": {},
   "outputs": [
    {
     "data": {
      "text/html": [
       "<div>\n",
       "<style scoped>\n",
       "    .dataframe tbody tr th:only-of-type {\n",
       "        vertical-align: middle;\n",
       "    }\n",
       "\n",
       "    .dataframe tbody tr th {\n",
       "        vertical-align: top;\n",
       "    }\n",
       "\n",
       "    .dataframe thead th {\n",
       "        text-align: right;\n",
       "    }\n",
       "</style>\n",
       "<table border=\"1\" class=\"dataframe\">\n",
       "  <thead>\n",
       "    <tr style=\"text-align: right;\">\n",
       "      <th></th>\n",
       "      <th>seqs</th>\n",
       "      <th>marker</th>\n",
       "    </tr>\n",
       "  </thead>\n",
       "  <tbody>\n",
       "    <tr>\n",
       "      <th>1</th>\n",
       "      <td>MSIIGATRLQNDKSDTYSAGPCYAGGCSAFTPRGTCGKDWDLGEQT...</td>\n",
       "      <td>NoTF</td>\n",
       "    </tr>\n",
       "    <tr>\n",
       "      <th>2</th>\n",
       "      <td>MASNTVSAQGGSNRPVRDFSNIQDVAQFLLFDPIWNEQPGSIVPWK...</td>\n",
       "      <td>NoTF</td>\n",
       "    </tr>\n",
       "    <tr>\n",
       "      <th>3</th>\n",
       "      <td>MYQAINPCPQSWYGSPQLEREIVCKMSGAPHYPNYYPVHPNALGGA...</td>\n",
       "      <td>NoTF</td>\n",
       "    </tr>\n",
       "    <tr>\n",
       "      <th>4</th>\n",
       "      <td>MARPLLGKTSSVRRRLESLSACSIFFFLRKFCQKMASLVFLNSPVY...</td>\n",
       "      <td>NoTF</td>\n",
       "    </tr>\n",
       "    <tr>\n",
       "      <th>5</th>\n",
       "      <td>MNAKYDTDQGVGRMLFLGTIGLAVVVGGLMAYGYYYDGKTPSSGTS...</td>\n",
       "      <td>NoTF</td>\n",
       "    </tr>\n",
       "    <tr>\n",
       "      <th>...</th>\n",
       "      <td>...</td>\n",
       "      <td>...</td>\n",
       "    </tr>\n",
       "    <tr>\n",
       "      <th>571604</th>\n",
       "      <td>MGNSKSKSKLSANQYEQQTVNSTKQVAILKRQAEPSLYGRHNCRCC...</td>\n",
       "      <td>NoTF</td>\n",
       "    </tr>\n",
       "    <tr>\n",
       "      <th>571605</th>\n",
       "      <td>MSSSLEITSFYSFIWTPHIGPLLFGIGLWFSMFKEPSHFCPCQHPH...</td>\n",
       "      <td>NoTF</td>\n",
       "    </tr>\n",
       "    <tr>\n",
       "      <th>571606</th>\n",
       "      <td>MGNCNRTQKPSSSSNNLEKPPQAAEFRRTAEPSLYGRYNCKCCWFA...</td>\n",
       "      <td>NoTF</td>\n",
       "    </tr>\n",
       "    <tr>\n",
       "      <th>571607</th>\n",
       "      <td>MGLRYSKEVRDRHGDKDPEGRIPITQTMPQTLYGRYNCKSCWFANK...</td>\n",
       "      <td>NoTF</td>\n",
       "    </tr>\n",
       "    <tr>\n",
       "      <th>571608</th>\n",
       "      <td>MGLRYSKDVKDRYGDREPEGRIPITLNMPQSLYGRYNCKSCWFANK...</td>\n",
       "      <td>NoTF</td>\n",
       "    </tr>\n",
       "  </tbody>\n",
       "</table>\n",
       "<p>564964 rows × 2 columns</p>\n",
       "</div>"
      ],
      "text/plain": [
       "                                                     seqs marker\n",
       "1       MSIIGATRLQNDKSDTYSAGPCYAGGCSAFTPRGTCGKDWDLGEQT...   NoTF\n",
       "2       MASNTVSAQGGSNRPVRDFSNIQDVAQFLLFDPIWNEQPGSIVPWK...   NoTF\n",
       "3       MYQAINPCPQSWYGSPQLEREIVCKMSGAPHYPNYYPVHPNALGGA...   NoTF\n",
       "4       MARPLLGKTSSVRRRLESLSACSIFFFLRKFCQKMASLVFLNSPVY...   NoTF\n",
       "5       MNAKYDTDQGVGRMLFLGTIGLAVVVGGLMAYGYYYDGKTPSSGTS...   NoTF\n",
       "...                                                   ...    ...\n",
       "571604  MGNSKSKSKLSANQYEQQTVNSTKQVAILKRQAEPSLYGRHNCRCC...   NoTF\n",
       "571605  MSSSLEITSFYSFIWTPHIGPLLFGIGLWFSMFKEPSHFCPCQHPH...   NoTF\n",
       "571606  MGNCNRTQKPSSSSNNLEKPPQAAEFRRTAEPSLYGRYNCKCCWFA...   NoTF\n",
       "571607  MGLRYSKEVRDRHGDKDPEGRIPITQTMPQTLYGRYNCKSCWFANK...   NoTF\n",
       "571608  MGLRYSKDVKDRYGDREPEGRIPITLNMPQSLYGRYNCKSCWFANK...   NoTF\n",
       "\n",
       "[564964 rows x 2 columns]"
      ]
     },
     "execution_count": 11,
     "metadata": {},
     "output_type": "execute_result"
    }
   ],
   "source": [
    "TFs = features[features[\"marker\"] == \"TF\"]\n",
    "TFs\n",
    "NonTFs = features[features[\"marker\"] == \"NoTF\"]\n",
    "NonTFs"
   ]
  },
  {
   "cell_type": "code",
   "execution_count": 12,
   "id": "ecec5c80-9dd7-411d-ae8a-e7ef6f4a772f",
   "metadata": {},
   "outputs": [
    {
     "data": {
      "text/html": [
       "<div>\n",
       "<style scoped>\n",
       "    .dataframe tbody tr th:only-of-type {\n",
       "        vertical-align: middle;\n",
       "    }\n",
       "\n",
       "    .dataframe tbody tr th {\n",
       "        vertical-align: top;\n",
       "    }\n",
       "\n",
       "    .dataframe thead th {\n",
       "        text-align: right;\n",
       "    }\n",
       "</style>\n",
       "<table border=\"1\" class=\"dataframe\">\n",
       "  <thead>\n",
       "    <tr style=\"text-align: right;\">\n",
       "      <th></th>\n",
       "      <th>seqs</th>\n",
       "      <th>marker</th>\n",
       "    </tr>\n",
       "  </thead>\n",
       "  <tbody>\n",
       "    <tr>\n",
       "      <th>1</th>\n",
       "      <td>MSIIGATRLQNDKSDTYSAGPCYAGGCSAFTPRGTCGKDWDLGEQT...</td>\n",
       "      <td>NoTF</td>\n",
       "    </tr>\n",
       "    <tr>\n",
       "      <th>2</th>\n",
       "      <td>MASNTVSAQGGSNRPVRDFSNIQDVAQFLLFDPIWNEQPGSIVPWK...</td>\n",
       "      <td>NoTF</td>\n",
       "    </tr>\n",
       "    <tr>\n",
       "      <th>3</th>\n",
       "      <td>MYQAINPCPQSWYGSPQLEREIVCKMSGAPHYPNYYPVHPNALGGA...</td>\n",
       "      <td>NoTF</td>\n",
       "    </tr>\n",
       "    <tr>\n",
       "      <th>4</th>\n",
       "      <td>MARPLLGKTSSVRRRLESLSACSIFFFLRKFCQKMASLVFLNSPVY...</td>\n",
       "      <td>NoTF</td>\n",
       "    </tr>\n",
       "    <tr>\n",
       "      <th>5</th>\n",
       "      <td>MNAKYDTDQGVGRMLFLGTIGLAVVVGGLMAYGYYYDGKTPSSGTS...</td>\n",
       "      <td>NoTF</td>\n",
       "    </tr>\n",
       "    <tr>\n",
       "      <th>...</th>\n",
       "      <td>...</td>\n",
       "      <td>...</td>\n",
       "    </tr>\n",
       "    <tr>\n",
       "      <th>6663</th>\n",
       "      <td>MHPKRRLCWCLPASGAWAFMLTSLIADTTACESEERLFHKLFSRYN...</td>\n",
       "      <td>NoTF</td>\n",
       "    </tr>\n",
       "    <tr>\n",
       "      <th>6664</th>\n",
       "      <td>MLTSKGQGFLHGGLCLWLCVFTPFFKGCVGCATEERLFHKLFSHYN...</td>\n",
       "      <td>NoTF</td>\n",
       "    </tr>\n",
       "    <tr>\n",
       "      <th>6665</th>\n",
       "      <td>MLNSRDQGNLHSGLCLWLCGFLALFKGSTGCESEEQLFHRLFAHYN...</td>\n",
       "      <td>NoTF</td>\n",
       "    </tr>\n",
       "    <tr>\n",
       "      <th>6666</th>\n",
       "      <td>MLTSKGQGFLHGGLCLWLCVFTPFFKGCVGCATEERLFHKLFSHYN...</td>\n",
       "      <td>NoTF</td>\n",
       "    </tr>\n",
       "    <tr>\n",
       "      <th>6667</th>\n",
       "      <td>MLNGWGRGDLRSGLCLWICGFLAFFKGSRGCVSEEQLFHTLFAHYN...</td>\n",
       "      <td>NoTF</td>\n",
       "    </tr>\n",
       "  </tbody>\n",
       "</table>\n",
       "<p>6645 rows × 2 columns</p>\n",
       "</div>"
      ],
      "text/plain": [
       "                                                   seqs marker\n",
       "1     MSIIGATRLQNDKSDTYSAGPCYAGGCSAFTPRGTCGKDWDLGEQT...   NoTF\n",
       "2     MASNTVSAQGGSNRPVRDFSNIQDVAQFLLFDPIWNEQPGSIVPWK...   NoTF\n",
       "3     MYQAINPCPQSWYGSPQLEREIVCKMSGAPHYPNYYPVHPNALGGA...   NoTF\n",
       "4     MARPLLGKTSSVRRRLESLSACSIFFFLRKFCQKMASLVFLNSPVY...   NoTF\n",
       "5     MNAKYDTDQGVGRMLFLGTIGLAVVVGGLMAYGYYYDGKTPSSGTS...   NoTF\n",
       "...                                                 ...    ...\n",
       "6663  MHPKRRLCWCLPASGAWAFMLTSLIADTTACESEERLFHKLFSRYN...   NoTF\n",
       "6664  MLTSKGQGFLHGGLCLWLCVFTPFFKGCVGCATEERLFHKLFSHYN...   NoTF\n",
       "6665  MLNSRDQGNLHSGLCLWLCGFLALFKGSTGCESEEQLFHRLFAHYN...   NoTF\n",
       "6666  MLTSKGQGFLHGGLCLWLCVFTPFFKGCVGCATEERLFHKLFSHYN...   NoTF\n",
       "6667  MLNGWGRGDLRSGLCLWICGFLAFFKGSRGCVSEEQLFHTLFAHYN...   NoTF\n",
       "\n",
       "[6645 rows x 2 columns]"
      ]
     },
     "execution_count": 12,
     "metadata": {},
     "output_type": "execute_result"
    }
   ],
   "source": [
    "balanced = NonTFs.iloc[:len(TFs)]\n",
    "balanced"
   ]
  },
  {
   "cell_type": "code",
   "execution_count": 14,
   "id": "3b9d2af8-53fd-4c08-9bee-95bd0f64a6c8",
   "metadata": {},
   "outputs": [],
   "source": [
    "combined_balanced = pd.concat([TFs, balanced]).reset_index()\n",
    "combined_balanced.to_csv(\"C:/Users/Fabian/Desktop/TFs_balanced.tsv\", sep = \"\\t\")"
   ]
  },
  {
   "cell_type": "code",
   "execution_count": 23,
   "id": "6e051921-314b-4f3c-9afa-8635a05fc201",
   "metadata": {},
   "outputs": [],
   "source": [
    "enc = combined_balanced[\"seqs\"].apply(ohe_by_seq)"
   ]
  },
  {
   "cell_type": "code",
   "execution_count": 27,
   "id": "1627a5d2-24d3-4016-bb97-fa242177a3cf",
   "metadata": {},
   "outputs": [
    {
     "data": {
      "text/html": [
       "<div>\n",
       "<style scoped>\n",
       "    .dataframe tbody tr th:only-of-type {\n",
       "        vertical-align: middle;\n",
       "    }\n",
       "\n",
       "    .dataframe tbody tr th {\n",
       "        vertical-align: top;\n",
       "    }\n",
       "\n",
       "    .dataframe thead th {\n",
       "        text-align: right;\n",
       "    }\n",
       "</style>\n",
       "<table border=\"1\" class=\"dataframe\">\n",
       "  <thead>\n",
       "    <tr style=\"text-align: right;\">\n",
       "      <th></th>\n",
       "      <th>enc</th>\n",
       "      <th>marker</th>\n",
       "    </tr>\n",
       "  </thead>\n",
       "  <tbody>\n",
       "    <tr>\n",
       "      <th>0</th>\n",
       "      <td>[[0, 0, 0, 0, 0, 0, 0, 0, 0, 0, 0, 1, 0, 0, 0,...</td>\n",
       "      <td>TF</td>\n",
       "    </tr>\n",
       "    <tr>\n",
       "      <th>1</th>\n",
       "      <td>[[0, 0, 0, 0, 0, 0, 0, 0, 0, 0, 0, 1, 0, 0, 0,...</td>\n",
       "      <td>TF</td>\n",
       "    </tr>\n",
       "    <tr>\n",
       "      <th>2</th>\n",
       "      <td>[[0, 0, 0, 0, 0, 0, 0, 0, 0, 0, 0, 1, 0, 0, 0,...</td>\n",
       "      <td>TF</td>\n",
       "    </tr>\n",
       "    <tr>\n",
       "      <th>3</th>\n",
       "      <td>[[0, 0, 0, 0, 0, 0, 0, 0, 0, 0, 0, 1, 0, 0, 0,...</td>\n",
       "      <td>TF</td>\n",
       "    </tr>\n",
       "    <tr>\n",
       "      <th>4</th>\n",
       "      <td>[[0, 0, 0, 0, 0, 0, 0, 0, 0, 0, 0, 1, 0, 0, 0,...</td>\n",
       "      <td>TF</td>\n",
       "    </tr>\n",
       "    <tr>\n",
       "      <th>...</th>\n",
       "      <td>...</td>\n",
       "      <td>...</td>\n",
       "    </tr>\n",
       "    <tr>\n",
       "      <th>13285</th>\n",
       "      <td>[[0, 0, 0, 0, 0, 0, 0, 0, 0, 0, 0, 1, 0, 0, 0,...</td>\n",
       "      <td>NoTF</td>\n",
       "    </tr>\n",
       "    <tr>\n",
       "      <th>13286</th>\n",
       "      <td>[[0, 0, 0, 0, 0, 0, 0, 0, 0, 0, 0, 1, 0, 0, 0,...</td>\n",
       "      <td>NoTF</td>\n",
       "    </tr>\n",
       "    <tr>\n",
       "      <th>13287</th>\n",
       "      <td>[[0, 0, 0, 0, 0, 0, 0, 0, 0, 0, 0, 1, 0, 0, 0,...</td>\n",
       "      <td>NoTF</td>\n",
       "    </tr>\n",
       "    <tr>\n",
       "      <th>13288</th>\n",
       "      <td>[[0, 0, 0, 0, 0, 0, 0, 0, 0, 0, 0, 1, 0, 0, 0,...</td>\n",
       "      <td>NoTF</td>\n",
       "    </tr>\n",
       "    <tr>\n",
       "      <th>13289</th>\n",
       "      <td>[[0, 0, 0, 0, 0, 0, 0, 0, 0, 0, 0, 1, 0, 0, 0,...</td>\n",
       "      <td>NoTF</td>\n",
       "    </tr>\n",
       "  </tbody>\n",
       "</table>\n",
       "<p>13290 rows × 2 columns</p>\n",
       "</div>"
      ],
      "text/plain": [
       "                                                     enc marker\n",
       "0      [[0, 0, 0, 0, 0, 0, 0, 0, 0, 0, 0, 1, 0, 0, 0,...     TF\n",
       "1      [[0, 0, 0, 0, 0, 0, 0, 0, 0, 0, 0, 1, 0, 0, 0,...     TF\n",
       "2      [[0, 0, 0, 0, 0, 0, 0, 0, 0, 0, 0, 1, 0, 0, 0,...     TF\n",
       "3      [[0, 0, 0, 0, 0, 0, 0, 0, 0, 0, 0, 1, 0, 0, 0,...     TF\n",
       "4      [[0, 0, 0, 0, 0, 0, 0, 0, 0, 0, 0, 1, 0, 0, 0,...     TF\n",
       "...                                                  ...    ...\n",
       "13285  [[0, 0, 0, 0, 0, 0, 0, 0, 0, 0, 0, 1, 0, 0, 0,...   NoTF\n",
       "13286  [[0, 0, 0, 0, 0, 0, 0, 0, 0, 0, 0, 1, 0, 0, 0,...   NoTF\n",
       "13287  [[0, 0, 0, 0, 0, 0, 0, 0, 0, 0, 0, 1, 0, 0, 0,...   NoTF\n",
       "13288  [[0, 0, 0, 0, 0, 0, 0, 0, 0, 0, 0, 1, 0, 0, 0,...   NoTF\n",
       "13289  [[0, 0, 0, 0, 0, 0, 0, 0, 0, 0, 0, 1, 0, 0, 0,...   NoTF\n",
       "\n",
       "[13290 rows x 2 columns]"
      ]
     },
     "execution_count": 27,
     "metadata": {},
     "output_type": "execute_result"
    }
   ],
   "source": [
    "combined_balanced[\"enc\"] = enc\n",
    "feats = combined_balanced[[\"enc\", \"marker\"]]\n",
    "feats"
   ]
  },
  {
   "cell_type": "code",
   "execution_count": 28,
   "id": "18ee6855-07c1-4bf6-8d79-5f852e293e62",
   "metadata": {},
   "outputs": [],
   "source": [
    "X_train, X_test, y_train, y_test = train_test_split(feats[\"enc\"], feats[\"marker\"], train_size = 0.8)"
   ]
  },
  {
   "cell_type": "code",
   "execution_count": 29,
   "id": "9fe4759a-2542-4e9f-94af-afdf8f86d020",
   "metadata": {},
   "outputs": [],
   "source": [
    "new_train = []\n",
    "for arr in X_train:\n",
    "    new_train.append(arr.flatten())\n",
    "X_train = np.asarray(new_train)"
   ]
  },
  {
   "cell_type": "code",
   "execution_count": 30,
   "id": "ccab3cab-f137-48a9-8a6c-cb29b0a5c13a",
   "metadata": {},
   "outputs": [
    {
     "data": {
      "text/plain": [
       "(10632, 10500)"
      ]
     },
     "execution_count": 30,
     "metadata": {},
     "output_type": "execute_result"
    }
   ],
   "source": [
    "X_train.shape"
   ]
  },
  {
   "cell_type": "code",
   "execution_count": 31,
   "id": "4ebf1f97-b484-4a9f-8961-47683ae9f2b7",
   "metadata": {},
   "outputs": [
    {
     "data": {
      "text/plain": [
       "(2658, 10500)"
      ]
     },
     "execution_count": 31,
     "metadata": {},
     "output_type": "execute_result"
    }
   ],
   "source": [
    "new_test = []\n",
    "for arr in X_test:\n",
    "    new_test.append(arr.flatten())\n",
    "X_test = np.asarray(new_test)\n",
    "X_test.shape"
   ]
  },
  {
   "cell_type": "code",
   "execution_count": 33,
   "id": "639d63cc-4c90-4e4e-b1bf-41888b68170a",
   "metadata": {},
   "outputs": [
    {
     "name": "stdout",
     "output_type": "stream",
     "text": [
      "Iteration 1, loss = 0.34613252\n",
      "Iteration 2, loss = 0.10057861\n",
      "Iteration 3, loss = 0.04527267\n",
      "Iteration 4, loss = 0.02350021\n",
      "Iteration 5, loss = 0.01289336\n",
      "Iteration 6, loss = 0.00809065\n",
      "Iteration 7, loss = 0.00561086\n",
      "Iteration 8, loss = 0.00414022\n",
      "Iteration 9, loss = 0.00322743\n",
      "Iteration 10, loss = 0.00258566\n",
      "Iteration 11, loss = 0.00213254\n",
      "Iteration 12, loss = 0.00179572\n",
      "Iteration 13, loss = 0.00153583\n",
      "Iteration 14, loss = 0.00133300\n",
      "Iteration 15, loss = 0.00117331\n",
      "Iteration 16, loss = 0.00104083\n",
      "Iteration 17, loss = 0.00093111\n",
      "Iteration 18, loss = 0.00084386\n",
      "Iteration 19, loss = 0.00076641\n",
      "Iteration 20, loss = 0.00070415\n",
      "Iteration 21, loss = 0.00064984\n",
      "Iteration 22, loss = 0.00060118\n",
      "Iteration 23, loss = 0.00056097\n",
      "Iteration 24, loss = 0.00052533\n",
      "Iteration 25, loss = 0.00049385\n",
      "Iteration 26, loss = 0.00046610\n",
      "Iteration 27, loss = 0.00044071\n",
      "Iteration 28, loss = 0.00041853\n",
      "Training loss did not improve more than tol=0.000100 for 10 consecutive epochs. Stopping.\n"
     ]
    }
   ],
   "source": [
    "cf = MLPClassifier(random_state = 1, max_iter = 300, verbose = True, warm_start = True).fit(X_train, y_train)"
   ]
  },
  {
   "cell_type": "code",
   "execution_count": 34,
   "id": "b3bfc03d-cfe6-49fd-a001-7a5eb2b7ac7d",
   "metadata": {},
   "outputs": [],
   "source": [
    "from sklearn.metrics import PrecisionRecallDisplay, confusion_matrix"
   ]
  },
  {
   "cell_type": "code",
   "execution_count": 35,
   "id": "42952597-8374-42ad-af75-7241628f315f",
   "metadata": {},
   "outputs": [
    {
     "data": {
      "image/png": "[encoded data removed]",
      "text/plain": [
       "<Figure size 640x480 with 1 Axes>"
      ]
     },
     "metadata": {},
     "output_type": "display_data"
    }
   ],
   "source": [
    "display = PrecisionRecallDisplay.from_estimator(\n",
    "    cf, X_test, y_test, name=\"MLPClassifier\", plot_chance_level=True\n",
    ")\n",
    "_ = display.ax_.set_title(\"2-class Precision-Recall curve\")"
   ]
  },
  {
   "cell_type": "code",
   "execution_count": 36,
   "id": "d382dc47-9514-480d-a2da-2624bc92678c",
   "metadata": {},
   "outputs": [],
   "source": [
    "\"\"\"\n",
    "cm = confusion_matrix(y_test, predictions, labels=clf.classes_)\n",
    "\n",
    "disp = ConfusionMatrixDisplay(confusion_matrix=cm,\n",
    "\n",
    "                              display_labels=clf.classes_)\n",
    "\"\"\"\n",
    "from sklearn.metrics import ConfusionMatrixDisplay"
   ]
  },
  {
   "cell_type": "code",
   "execution_count": 37,
   "id": "9c47af8b-4f68-46ad-b300-9237339170c5",
   "metadata": {},
   "outputs": [
    {
     "data": {
      "text/plain": [
       "<sklearn.metrics._plot.confusion_matrix.ConfusionMatrixDisplay at 0x11cda77dc40>"
      ]
     },
     "execution_count": 37,
     "metadata": {},
     "output_type": "execute_result"
    },
    {
     "data": {
      "image/png": "[encoded data removed]",
      "text/plain": [
       "<Figure size 640x480 with 2 Axes>"
      ]
     },
     "metadata": {},
     "output_type": "display_data"
    }
   ],
   "source": [
    "ConfusionMatrixDisplay.from_estimator(\n",
    "    cf, X_test, y_test)"
   ]
  },
  {
   "cell_type": "code",
   "execution_count": 43,
   "id": "822d1162-5670-4e3d-a6d1-11dbf813334c",
   "metadata": {},
   "outputs": [],
   "source": [
    "# As this notebook is cleaner, try RF with balanced dataset\n",
    "from sklearn.ensemble import RandomForestClassifier, GradientBoostingClassifier"
   ]
  },
  {
   "cell_type": "code",
   "execution_count": 39,
   "id": "623f9727-4400-464f-b393-340210b83e64",
   "metadata": {},
   "outputs": [
    {
     "name": "stdout",
     "output_type": "stream",
     "text": [
      "building tree 1 of 100\n",
      "building tree 2 of 100\n",
      "building tree 3 of 100\n",
      "building tree 4 of 100\n",
      "building tree 5 of 100\n",
      "building tree 6 of 100\n",
      "building tree 7 of 100\n",
      "building tree 8 of 100\n",
      "building tree 9 of 100\n",
      "building tree 10 of 100\n",
      "building tree 11 of 100\n",
      "building tree 12 of 100\n",
      "building tree 13 of 100\n",
      "building tree 14 of 100\n",
      "building tree 15 of 100\n",
      "building tree 16 of 100\n",
      "building tree 17 of 100\n",
      "building tree 18 of 100\n",
      "building tree 19 of 100\n",
      "building tree 20 of 100\n",
      "building tree 21 of 100\n",
      "building tree 22 of 100\n",
      "building tree 23 of 100\n",
      "building tree 24 of 100\n",
      "building tree 25 of 100\n",
      "building tree 26 of 100\n",
      "building tree 27 of 100\n",
      "building tree 28 of 100\n",
      "building tree 29 of 100\n",
      "building tree 30 of 100\n",
      "building tree 31 of 100\n"
     ]
    },
    {
     "name": "stderr",
     "output_type": "stream",
     "text": [
      "[Parallel(n_jobs=1)]: Done  31 tasks      | elapsed:   12.8s\n"
     ]
    },
    {
     "name": "stdout",
     "output_type": "stream",
     "text": [
      "building tree 32 of 100\n",
      "building tree 33 of 100\n",
      "building tree 34 of 100\n",
      "building tree 35 of 100\n",
      "building tree 36 of 100\n",
      "building tree 37 of 100\n",
      "building tree 38 of 100\n",
      "building tree 39 of 100\n",
      "building tree 40 of 100\n",
      "building tree 41 of 100\n",
      "building tree 42 of 100\n",
      "building tree 43 of 100\n",
      "building tree 44 of 100\n",
      "building tree 45 of 100\n",
      "building tree 46 of 100\n",
      "building tree 47 of 100\n",
      "building tree 48 of 100\n",
      "building tree 49 of 100\n",
      "building tree 50 of 100\n",
      "building tree 51 of 100\n",
      "building tree 52 of 100\n",
      "building tree 53 of 100\n",
      "building tree 54 of 100\n",
      "building tree 55 of 100\n",
      "building tree 56 of 100\n",
      "building tree 57 of 100\n",
      "building tree 58 of 100\n",
      "building tree 59 of 100\n",
      "building tree 60 of 100\n",
      "building tree 61 of 100\n",
      "building tree 62 of 100\n",
      "building tree 63 of 100\n",
      "building tree 64 of 100\n",
      "building tree 65 of 100\n",
      "building tree 66 of 100\n",
      "building tree 67 of 100\n",
      "building tree 68 of 100\n",
      "building tree 69 of 100\n",
      "building tree 70 of 100\n",
      "building tree 71 of 100\n",
      "building tree 72 of 100\n",
      "building tree 73 of 100\n",
      "building tree 74 of 100\n",
      "building tree 75 of 100\n",
      "building tree 76 of 100\n",
      "building tree 77 of 100\n",
      "building tree 78 of 100\n",
      "building tree 79 of 100\n",
      "building tree 80 of 100\n",
      "building tree 81 of 100\n",
      "building tree 82 of 100\n",
      "building tree 83 of 100\n",
      "building tree 84 of 100\n",
      "building tree 85 of 100\n",
      "building tree 86 of 100\n",
      "building tree 87 of 100\n",
      "building tree 88 of 100\n",
      "building tree 89 of 100\n",
      "building tree 90 of 100\n",
      "building tree 91 of 100\n",
      "building tree 92 of 100\n",
      "building tree 93 of 100\n",
      "building tree 94 of 100\n",
      "building tree 95 of 100\n",
      "building tree 96 of 100\n",
      "building tree 97 of 100\n",
      "building tree 98 of 100\n",
      "building tree 99 of 100\n",
      "building tree 100 of 100\n"
     ]
    }
   ],
   "source": [
    "rf = RandomForestClassifier(verbose = 3).fit(X_train, y_train)"
   ]
  },
  {
   "cell_type": "code",
   "execution_count": 40,
   "id": "cd0a3e66-6b82-4da7-ba84-9b7d54cd16c2",
   "metadata": {},
   "outputs": [
    {
     "name": "stderr",
     "output_type": "stream",
     "text": [
      "[Parallel(n_jobs=1)]: Done  31 tasks      | elapsed:    0.0s\n"
     ]
    },
    {
     "data": {
      "text/plain": [
       "<sklearn.metrics._plot.confusion_matrix.ConfusionMatrixDisplay at 0x11cda82b470>"
      ]
     },
     "execution_count": 40,
     "metadata": {},
     "output_type": "execute_result"
    },
    {
     "data": {
      "image/png": "[encoded data removed]",
      "text/plain": [
       "<Figure size 640x480 with 2 Axes>"
      ]
     },
     "metadata": {},
     "output_type": "display_data"
    }
   ],
   "source": [
    "ConfusionMatrixDisplay.from_estimator(\n",
    "    rf, X_test, y_test)"
   ]
  },
  {
   "cell_type": "code",
   "execution_count": 41,
   "id": "9eae1028-0daf-45da-b455-f4845591d652",
   "metadata": {},
   "outputs": [
    {
     "data": {
      "image/png": "[encoded data removed]",
      "text/plain": [
       "<Figure size 640x480 with 1 Axes>"
      ]
     },
     "metadata": {},
     "output_type": "display_data"
    }
   ],
   "source": [
    "display = PrecisionRecallDisplay.from_estimator(\n",
    "    cf, X_test, y_test, name=\"RFClassifier\", plot_chance_level=True\n",
    ")\n",
    "_ = display.ax_.set_title(\"2-class Precision-Recall curve\")"
   ]
  },
  {
   "cell_type": "code",
   "execution_count": 46,
   "id": "74b03917-6199-49e1-ae78-28d87c4f5b47",
   "metadata": {},
   "outputs": [
    {
     "name": "stdout",
     "output_type": "stream",
     "text": [
      "      Iter       Train Loss   Remaining Time \n",
      "         1           1.3683           13.45m\n",
      "         2           1.3527           14.51m\n",
      "         3           1.3380           13.79m\n",
      "         4           1.3261           13.34m\n",
      "         5           1.3125           13.00m\n",
      "         6           1.3007           12.72m\n",
      "         7           1.2903           12.49m\n",
      "         8           1.2808           12.66m\n",
      "         9           1.2676           13.01m\n",
      "        10           1.2575           12.83m\n",
      "        20           1.1780           11.09m\n",
      "        30           1.1126            9.47m\n",
      "        40           1.0616            8.09m\n",
      "        50           1.0194            6.73m\n",
      "        60           0.9817            5.37m\n",
      "        70           0.9470            4.03m\n",
      "        80           0.9164            2.68m\n",
      "        90           0.8884            1.34m\n",
      "       100           0.8631            0.00s\n"
     ]
    }
   ],
   "source": [
    "gbd = GradientBoostingClassifier(verbose = 1).fit(X_train, y_train)"
   ]
  },
  {
   "cell_type": "code",
   "execution_count": 48,
   "id": "d395b0a8-3d53-492d-9fd1-280943977feb",
   "metadata": {},
   "outputs": [
    {
     "data": {
      "image/png": "[encoded data removed]",
      "text/plain": [
       "<Figure size 640x480 with 1 Axes>"
      ]
     },
     "metadata": {},
     "output_type": "display_data"
    }
   ],
   "source": [
    "display = PrecisionRecallDisplay.from_estimator(\n",
    "    gbd, X_test, y_test, name=\"GradientBoost\", plot_chance_level=True\n",
    ")\n",
    "_ = display.ax_.set_title(\"2-class Precision-Recall curve\")"
   ]
  },
  {
   "cell_type": "code",
   "execution_count": 49,
   "id": "bd635540-bd03-482b-b292-3e8119e7b0b3",
   "metadata": {},
   "outputs": [
    {
     "data": {
      "text/plain": [
       "<sklearn.metrics._plot.confusion_matrix.ConfusionMatrixDisplay at 0x11d42ec38c0>"
      ]
     },
     "execution_count": 49,
     "metadata": {},
     "output_type": "execute_result"
    },
    {
     "data": {
      "image/png": "[encoded data removed]",
      "text/plain": [
       "<Figure size 640x480 with 2 Axes>"
      ]
     },
     "metadata": {},
     "output_type": "display_data"
    }
   ],
   "source": [
    "ConfusionMatrixDisplay.from_estimator(\n",
    "    gbd, X_test, y_test)"
   ]
  },
  {
   "cell_type": "code",
   "execution_count": 50,
   "id": "271f17ab-fc8b-4e1c-8e7d-277c34d3d9dd",
   "metadata": {},
   "outputs": [],
   "source": [
    "import torch\n",
    "import torch.nn as nn"
   ]
  },
  {
   "cell_type": "code",
   "execution_count": 58,
   "id": "a2be3128-118f-4a81-936c-d394053344ff",
   "metadata": {},
   "outputs": [],
   "source": [
    "class CNN_model(nn.Module):\n",
    "\n",
    "    def __init__(self):\n",
    "        super().__init__()\n",
    "        self.conv1 = nn.Conv2d(1, 20, 5)\n",
    "\n",
    "    def foward(self):\n",
    "        pass"
   ]
  },
  {
   "cell_type": "code",
   "execution_count": 59,
   "id": "108a7fcc-5c12-499a-bc81-402deaa296d4",
   "metadata": {},
   "outputs": [],
   "source": [
    "CNN_ = CNN_model()"
   ]
  },
  {
   "cell_type": "code",
   "execution_count": 60,
   "id": "a605d8c8-74c5-4a91-8234-75f6d240e570",
   "metadata": {},
   "outputs": [],
   "source": [
    "# I WROTE MY OWN ONE HOT ENCODING BUT TANGERMEME PROVIDES FASTER ALTERNATIVE ESPECIALLY FOR PYTORCH TENSORS!"
   ]
  },
  {
   "cell_type": "code",
   "execution_count": 69,
   "id": "5e1587ab-4279-450b-9bab-c7299eef9b49",
   "metadata": {},
   "outputs": [],
   "source": [
    "# Create some linear relationship (y =mx+b)\n",
    "weight = 0.7\n",
    "bias = 0.3\n",
    "\n",
    "start = 0\n",
    "end = 1\n",
    "step = 0.02\n",
    "\n",
    "X = torch.arange(start, end, step).unsqueeze(dim=1) # create a 2d tensor (50,) => (50,1)\n",
    "y = weight * X + bias"
   ]
  },
  {
   "cell_type": "code",
   "execution_count": 68,
   "id": "c4c99f87-0bb1-4765-9d9a-41e005a2a57a",
   "metadata": {},
   "outputs": [
    {
     "data": {
      "text/plain": [
       "torch.Size([50])"
      ]
     },
     "execution_count": 68,
     "metadata": {},
     "output_type": "execute_result"
    }
   ],
   "source": [
    "X.shape"
   ]
  },
  {
   "cell_type": "code",
   "execution_count": 70,
   "id": "7bb8b50d-4e4a-4af1-9d71-a7cde612d2e3",
   "metadata": {},
   "outputs": [],
   "source": [
    "train_split = int(0.8 * len(X))"
   ]
  },
  {
   "cell_type": "code",
   "execution_count": 71,
   "id": "a3e8c7b2-0500-42b9-a632-e48bf06bf29b",
   "metadata": {},
   "outputs": [
    {
     "data": {
      "text/plain": [
       "(40, 40, 10, 10)"
      ]
     },
     "execution_count": 71,
     "metadata": {},
     "output_type": "execute_result"
    }
   ],
   "source": [
    "X_train, y_train = X[:train_split], y[:train_split]\n",
    "X_test, y_test = X[train_split:], y[train_split:]\n",
    "\n",
    "len(X_train), len(y_train), len(X_test), len(y_test)"
   ]
  },
  {
   "cell_type": "code",
   "execution_count": 74,
   "id": "80815cb9-b5b3-4faa-a41a-97038757b279",
   "metadata": {},
   "outputs": [],
   "source": [
    "from matplotlib import pyplot as plt\n",
    "\n",
    "def plot_predictions(train_data=X_train, \n",
    "                     train_labels=y_train, \n",
    "                     test_data=X_test, \n",
    "                     test_labels=y_test, \n",
    "                     predictions=None):\n",
    "  \"\"\"\n",
    "  Plots training data, test data and compares predictions.\n",
    "  \"\"\"\n",
    "  plt.figure(figsize=(10, 7))\n",
    "\n",
    "  # Plot training data in blue\n",
    "  plt.scatter(train_data, train_labels, c=\"b\", s=4, label=\"Training data\")\n",
    "  \n",
    "  # Plot test data in green\n",
    "  plt.scatter(test_data, test_labels, c=\"g\", s=4, label=\"Testing data\")\n",
    "\n",
    "  if predictions is not None:\n",
    "    # Plot the predictions in red (predictions were made on the test data)\n",
    "    plt.scatter(test_data, predictions, c=\"r\", s=4, label=\"Predictions\")\n",
    "\n",
    "  # Show the legend\n",
    "  plt.legend(prop={\"size\": 14});"
   ]
  },
  {
   "cell_type": "code",
   "execution_count": 75,
   "id": "0276ef51-af57-4b10-914c-a2a9024dc2b1",
   "metadata": {},
   "outputs": [
    {
     "data": {
      "image/png": "[encoded data removed]",
      "text/plain": [
       "<Figure size 1000x700 with 1 Axes>"
      ]
     },
     "metadata": {},
     "output_type": "display_data"
    }
   ],
   "source": [
    "plot_predictions()"
   ]
  },
  {
   "cell_type": "code",
   "execution_count": 89,
   "id": "32301404-1060-49c5-8ac0-2ef4de03bd4c",
   "metadata": {},
   "outputs": [],
   "source": [
    "# Create a Linear Regression model class\n",
    "class LinearRegressionModel(nn.Module): # <- almost everything in PyTorch is a nn.Module (think of this as neural network lego blocks)\n",
    "    def __init__(self):\n",
    "        super().__init__() \n",
    "        self.weights = nn.Parameter(torch.randn(1, # <- start with random weights (this will get adjusted as the model learns)\n",
    "                                                dtype=torch.float), # <- PyTorch loves float32 by default\n",
    "                                   requires_grad=True) # <- can we update this value with gradient descent?)\n",
    "\n",
    "        self.bias = nn.Parameter(torch.randn(1, # <- start with random bias (this will get adjusted as the model learns)\n",
    "                                            dtype=torch.float), # <- PyTorch loves float32 by default\n",
    "                                requires_grad=True) # <- can we update this value with gradient descent?))\n",
    "\n",
    "    # Forward defines the computation in the model\n",
    "    def forward(self, x: torch.Tensor) -> torch.Tensor: # <- \"x\" is the input data (e.g. training/testing features)\n",
    "        return self.weights * x + self.bias # <- this is the linear regression formula (y = m*x + b)"
   ]
  },
  {
   "cell_type": "raw",
   "id": "438d71dd-cdf4-4a7d-b9eb-48b53321dd59",
   "metadata": {},
   "source": [
    "torch"
   ]
  },
  {
   "cell_type": "code",
   "execution_count": 90,
   "id": "285c4bcd-87cd-42e7-86b5-f8bcbc4f0832",
   "metadata": {},
   "outputs": [
    {
     "data": {
      "text/plain": [
       "[Parameter containing:\n",
       " tensor([0.3367], requires_grad=True),\n",
       " Parameter containing:\n",
       " tensor([0.1288], requires_grad=True)]"
      ]
     },
     "execution_count": 90,
     "metadata": {},
     "output_type": "execute_result"
    }
   ],
   "source": [
    "torch.manual_seed(42)\n",
    "\n",
    "model_0 = LinearRegressionModel()\n",
    "\n",
    "list(model_0.parameters())"
   ]
  },
  {
   "cell_type": "code",
   "execution_count": 84,
   "id": "660c412c-2af3-49a6-9b67-457adbb225ae",
   "metadata": {},
   "outputs": [
    {
     "data": {
      "text/plain": [
       "OrderedDict([('weights', tensor([0.3367])), ('bias', tensor([0.1288]))])"
      ]
     },
     "execution_count": 84,
     "metadata": {},
     "output_type": "execute_result"
    }
   ],
   "source": [
    "model_0.state_dict()"
   ]
  },
  {
   "cell_type": "code",
   "execution_count": 91,
   "id": "a28e5af4-9db5-44e0-9c50-678fb84c362f",
   "metadata": {},
   "outputs": [],
   "source": [
    "# Make predictions with model\n",
    "with torch.inference_mode(): \n",
    "    y_preds = model_0(X_test)\n",
    "\n",
    "# Note: in older PyTorch code you might also see torch.no_grad()\n",
    "# with torch.no_grad():\n",
    "#   y_preds = model_0(X_test)"
   ]
  },
  {
   "cell_type": "code",
   "execution_count": 92,
   "id": "fca27e37-c007-4326-8092-7e86820f26b2",
   "metadata": {},
   "outputs": [
    {
     "data": {
      "image/png": "[encoded data removed]",
      "text/plain": [
       "<Figure size 1000x700 with 1 Axes>"
      ]
     },
     "metadata": {},
     "output_type": "display_data"
    }
   ],
   "source": [
    "plot_predictions(predictions = y_preds)"
   ]
  },
  {
   "cell_type": "code",
   "execution_count": 93,
   "id": "10d71b2c-d2d7-4702-99af-80bc9682f194",
   "metadata": {},
   "outputs": [],
   "source": [
    "# Create loss function\n",
    "loss_fn = nn.L1Loss()\n",
    "\n",
    "# Create optimizer\n",
    "optimizer = torch.optim.SGD(params= model_0.parameters(), lr = 0.01)"
   ]
  },
  {
   "cell_type": "code",
   "execution_count": 94,
   "id": "fe72ad53-e903-4bfa-95f1-60fe8a182bc3",
   "metadata": {},
   "outputs": [
    {
     "name": "stdout",
     "output_type": "stream",
     "text": [
      "Epoch: 0 | MAE Train loss: 0.31288138031959534 | MAE Test loss: 0.4945361614227295\n",
      "Epoch: 10 | MAE Train loss: 0.31288138031959534 | MAE Test loss: 0.4945361614227295\n",
      "Epoch: 20 | MAE Train loss: 0.31288138031959534 | MAE Test loss: 0.4945361614227295\n",
      "Epoch: 30 | MAE Train loss: 0.31288138031959534 | MAE Test loss: 0.4945361614227295\n",
      "Epoch: 40 | MAE Train loss: 0.31288138031959534 | MAE Test loss: 0.4945361614227295\n",
      "Epoch: 50 | MAE Train loss: 0.31288138031959534 | MAE Test loss: 0.4945361614227295\n",
      "Epoch: 60 | MAE Train loss: 0.31288138031959534 | MAE Test loss: 0.4945361614227295\n",
      "Epoch: 70 | MAE Train loss: 0.31288138031959534 | MAE Test loss: 0.4945361614227295\n",
      "Epoch: 80 | MAE Train loss: 0.31288138031959534 | MAE Test loss: 0.4945361614227295\n",
      "Epoch: 90 | MAE Train loss: 0.31288138031959534 | MAE Test loss: 0.4945361614227295\n"
     ]
    }
   ],
   "source": [
    "torch.manual_seed(42)\n",
    "\n",
    "epochs = 100\n",
    "\n",
    "train_loss_values = []\n",
    "test_loss_values = []\n",
    "epoch_count = []\n",
    "\n",
    "for epoch in range(epochs):\n",
    "\n",
    "    # Put model in training mode (this is default)\n",
    "    model_0.train()\n",
    "    # 1. Forward pass on train data using the\n",
    "    y_pred = model_0(X_train)\n",
    "    # 2. Calculcate the loss\n",
    "    loss = loss_fn(y_pred, y_train)\n",
    "    # 3. Zero grad of the optimizer\n",
    "    optimizer.zero_grad()\n",
    "    # 4. loss backwards\n",
    "    loss.backward\n",
    "    # 5. Progress the optimizer\n",
    "    optimizer.step()\n",
    "\n",
    "    ### Testing\n",
    "    # model in eval mode\n",
    "    model_0.eval()\n",
    "    with torch.inference_mode():\n",
    "        test_pred = model_0(X_test)\n",
    "\n",
    "        # 2. Calculate loss on test data_list\n",
    "        test_loss = loss_fn(test_pred, y_test.type(torch.float))\n",
    "        if epoch % 10 == 0:\n",
    "            epoch_count.append(epoch)\n",
    "            train_loss_values.append(loss.detach().numpy())\n",
    "            test_loss_values.append(test_loss.detach().numpy())\n",
    "            print(f\"Epoch: {epoch} | MAE Train loss: {loss} | MAE Test loss: {test_loss}\")\n",
    "        "
   ]
  },
  {
   "cell_type": "code",
   "execution_count": 95,
   "id": "f8de84a5-38d4-4e8d-a373-ef4e047f30f5",
   "metadata": {},
   "outputs": [
    {
     "name": "stdout",
     "output_type": "stream",
     "text": [
      "Epoch: 0 | MAE Train Loss: 0.31288138031959534 | MAE Test Loss: 0.48106518387794495 \n",
      "Epoch: 10 | MAE Train Loss: 0.1976713240146637 | MAE Test Loss: 0.3463551998138428 \n",
      "Epoch: 20 | MAE Train Loss: 0.08908725529909134 | MAE Test Loss: 0.21729660034179688 \n",
      "Epoch: 30 | MAE Train Loss: 0.053148526698350906 | MAE Test Loss: 0.14464017748832703 \n",
      "Epoch: 40 | MAE Train Loss: 0.04543796554207802 | MAE Test Loss: 0.11360953003168106 \n",
      "Epoch: 50 | MAE Train Loss: 0.04167863354086876 | MAE Test Loss: 0.09919948130846024 \n",
      "Epoch: 60 | MAE Train Loss: 0.03818932920694351 | MAE Test Loss: 0.08886633068323135 \n",
      "Epoch: 70 | MAE Train Loss: 0.03476089984178543 | MAE Test Loss: 0.0805937647819519 \n",
      "Epoch: 80 | MAE Train Loss: 0.03132382780313492 | MAE Test Loss: 0.07232122868299484 \n",
      "Epoch: 90 | MAE Train Loss: 0.02788739837706089 | MAE Test Loss: 0.06473556160926819 \n"
     ]
    }
   ],
   "source": [
    "torch.manual_seed(42)\n",
    "\n",
    "# Set the number of epochs (how many times the model will pass over the training data)\n",
    "epochs = 100\n",
    "\n",
    "# Create empty loss lists to track values\n",
    "train_loss_values = []\n",
    "test_loss_values = []\n",
    "epoch_count = []\n",
    "\n",
    "for epoch in range(epochs):\n",
    "    ### Training\n",
    "\n",
    "    # Put model in training mode (this is the default state of a model)\n",
    "    model_0.train()\n",
    "\n",
    "    # 1. Forward pass on train data using the forward() method inside \n",
    "    y_pred = model_0(X_train)\n",
    "    # print(y_pred)\n",
    "\n",
    "    # 2. Calculate the loss (how different are our models predictions to the ground truth)\n",
    "    loss = loss_fn(y_pred, y_train)\n",
    "\n",
    "    # 3. Zero grad of the optimizer\n",
    "    optimizer.zero_grad()\n",
    "\n",
    "    # 4. Loss backwards\n",
    "    loss.backward()\n",
    "\n",
    "    # 5. Progress the optimizer\n",
    "    optimizer.step()\n",
    "\n",
    "    ### Testing\n",
    "\n",
    "    # Put the model in evaluation mode\n",
    "    model_0.eval()\n",
    "\n",
    "    with torch.inference_mode():\n",
    "      # 1. Forward pass on test data\n",
    "      test_pred = model_0(X_test)\n",
    "\n",
    "      # 2. Caculate loss on test data\n",
    "      test_loss = loss_fn(test_pred, y_test.type(torch.float)) # predictions come in torch.float datatype, so comparisons need to be done with tensors of the same type\n",
    "\n",
    "      # Print out what's happening\n",
    "      if epoch % 10 == 0:\n",
    "            epoch_count.append(epoch)\n",
    "            train_loss_values.append(loss.detach().numpy())\n",
    "            test_loss_values.append(test_loss.detach().numpy())\n",
    "            print(f\"Epoch: {epoch} | MAE Train Loss: {loss} | MAE Test Loss: {test_loss} \")"
   ]
  },
  {
   "cell_type": "code",
   "execution_count": 96,
   "id": "5aeac6f7-f7dc-4ffe-a66f-3bd60e647e4c",
   "metadata": {},
   "outputs": [
    {
     "data": {
      "image/png": "[encoded data removed]",
      "text/plain": [
       "<Figure size 640x480 with 1 Axes>"
      ]
     },
     "metadata": {},
     "output_type": "display_data"
    }
   ],
   "source": [
    "plt.plot(epoch_count, train_loss_values, label = \"Train loss\")\n",
    "plt.plot(epoch_count, test_loss_values, label = \"Test loss\")\n",
    "plt.title(\"Training and test loss curves\")\n",
    "plt.ylabel(\"Loss\")\n",
    "plt.xlabel(\"Epochs\")\n",
    "plt.legend();"
   ]
  },
  {
   "cell_type": "code",
   "execution_count": 97,
   "id": "63e89107-87fd-46fd-8417-139ba305dda2",
   "metadata": {},
   "outputs": [
    {
     "data": {
      "text/plain": [
       "tensor([[0.8141],\n",
       "        [0.8256],\n",
       "        [0.8372],\n",
       "        [0.8488],\n",
       "        [0.8603],\n",
       "        [0.8719],\n",
       "        [0.8835],\n",
       "        [0.8950],\n",
       "        [0.9066],\n",
       "        [0.9182]])"
      ]
     },
     "execution_count": 97,
     "metadata": {},
     "output_type": "execute_result"
    }
   ],
   "source": [
    "# 1. Set the model in evaluation mode\n",
    "model_0.eval()\n",
    "\n",
    "# 2. Setup the inference mode context manager\n",
    "with torch.inference_mode():\n",
    "  # 3. Make sure the calculations are done with the model and data on the same device\n",
    "  # in our case, we haven't setup device-agnostic code yet so our data and model are\n",
    "  # on the CPU by default.\n",
    "  # model_0.to(device)\n",
    "  # X_test = X_test.to(device)\n",
    "  y_preds = model_0(X_test)\n",
    "y_preds"
   ]
  },
  {
   "cell_type": "code",
   "execution_count": 98,
   "id": "b0a9b0e2-729b-4dab-8480-5e615ca955cf",
   "metadata": {
    "scrolled": true
   },
   "outputs": [
    {
     "data": {
      "image/png": "[encoded data removed]",
      "text/plain": [
       "<Figure size 1000x700 with 1 Axes>"
      ]
     },
     "metadata": {},
     "output_type": "display_data"
    }
   ],
   "source": [
    "plot_predictions(predictions=y_preds)"
   ]
  },
  {
   "cell_type": "code",
   "execution_count": 99,
   "id": "5cb0cc69-8c20-4ce4-afc4-f955e88f2ffb",
   "metadata": {},
   "outputs": [
    {
     "name": "stdout",
     "output_type": "stream",
     "text": [
      "Saving model to: models\\01_pytorch_workflow_model_0.pth\n"
     ]
    }
   ],
   "source": [
    "from pathlib import Path\n",
    "\n",
    "# 1. Create models directory \n",
    "MODEL_PATH = Path(\"models\")\n",
    "MODEL_PATH.mkdir(parents=True, exist_ok=True)\n",
    "\n",
    "# 2. Create model save path \n",
    "MODEL_NAME = \"01_pytorch_workflow_model_0.pth\"\n",
    "MODEL_SAVE_PATH = MODEL_PATH / MODEL_NAME\n",
    "\n",
    "# 3. Save the model state dict \n",
    "print(f\"Saving model to: {MODEL_SAVE_PATH}\")\n",
    "torch.save(obj=model_0.state_dict(), # only saving the state_dict() only saves the models learned parameters\n",
    "           f=MODEL_SAVE_PATH)"
   ]
  },
  {
   "cell_type": "code",
   "execution_count": 100,
   "id": "c23909eb-0a4a-4afe-9708-b8a994ab539a",
   "metadata": {},
   "outputs": [
    {
     "data": {
      "text/plain": [
       "<All keys matched successfully>"
      ]
     },
     "execution_count": 100,
     "metadata": {},
     "output_type": "execute_result"
    }
   ],
   "source": [
    "# Instantiate a new instance of our model (this will be instantiated with random weights)\n",
    "loaded_model_0 = LinearRegressionModel()\n",
    "\n",
    "# Load the state_dict of our saved model (this will update the new instance of our model with trained weights)\n",
    "loaded_model_0.load_state_dict(torch.load(f=MODEL_SAVE_PATH))"
   ]
  },
  {
   "cell_type": "code",
   "execution_count": 101,
   "id": "f2e718cd-2a09-466a-a79f-bf19076b0cfb",
   "metadata": {},
   "outputs": [
    {
     "name": "stdout",
     "output_type": "stream",
     "text": [
      "Using device: cpu\n"
     ]
    }
   ],
   "source": [
    "# Now with nn layer\n",
    "device = \"cuda\" if torch.cuda.is_available() else \"cpu\"\n",
    "print(f\"Using device: {device}\")"
   ]
  },
  {
   "cell_type": "code",
   "execution_count": 102,
   "id": "db14b3a1-d4a3-44ae-900a-e593dc9d4c4e",
   "metadata": {},
   "outputs": [
    {
     "data": {
      "text/plain": [
       "(tensor([[0.0000],\n",
       "         [0.0200],\n",
       "         [0.0400],\n",
       "         [0.0600],\n",
       "         [0.0800],\n",
       "         [0.1000],\n",
       "         [0.1200],\n",
       "         [0.1400],\n",
       "         [0.1600],\n",
       "         [0.1800]]),\n",
       " tensor([[0.3000],\n",
       "         [0.3140],\n",
       "         [0.3280],\n",
       "         [0.3420],\n",
       "         [0.3560],\n",
       "         [0.3700],\n",
       "         [0.3840],\n",
       "         [0.3980],\n",
       "         [0.4120],\n",
       "         [0.4260]]))"
      ]
     },
     "execution_count": 102,
     "metadata": {},
     "output_type": "execute_result"
    }
   ],
   "source": [
    "\n",
    "\n",
    "# Create weight and bias\n",
    "weight = 0.7\n",
    "bias = 0.3\n",
    "\n",
    "# Create range values\n",
    "start = 0\n",
    "end = 1\n",
    "step = 0.02\n",
    "\n",
    "# Create X and y (features and labels)\n",
    "X = torch.arange(start, end, step).unsqueeze(dim=1) # without unsqueeze, errors will happen later on (shapes within linear layers)\n",
    "y = weight * X + bias \n",
    "X[:10], y[:10]\n"
   ]
  },
  {
   "cell_type": "code",
   "execution_count": 103,
   "id": "fbf5f3aa-9e95-477f-a6c5-1e8f9c9e6353",
   "metadata": {},
   "outputs": [
    {
     "data": {
      "text/plain": [
       "(40, 40, 10, 10)"
      ]
     },
     "execution_count": 103,
     "metadata": {},
     "output_type": "execute_result"
    }
   ],
   "source": [
    "\n",
    "\n",
    "# Split data\n",
    "train_split = int(0.8 * len(X))\n",
    "X_train, y_train = X[:train_split], y[:train_split]\n",
    "X_test, y_test = X[train_split:], y[train_split:]\n",
    "\n",
    "len(X_train), len(y_train), len(X_test), len(y_test)\n"
   ]
  },
  {
   "cell_type": "code",
   "execution_count": 104,
   "id": "b57c6890-3474-47db-a282-19c0d3c8e3dc",
   "metadata": {},
   "outputs": [
    {
     "data": {
      "image/png": "[encoded data removed]",
      "text/plain": [
       "<Figure size 1000x700 with 1 Axes>"
      ]
     },
     "metadata": {},
     "output_type": "display_data"
    }
   ],
   "source": [
    "plot_predictions()"
   ]
  },
  {
   "cell_type": "code",
   "execution_count": 111,
   "id": "9f44ff42-9229-4d76-8c0b-2d3c6f43505c",
   "metadata": {},
   "outputs": [
    {
     "data": {
      "text/plain": [
       "(LinearRegressionModelV2(\n",
       "   (linear_layer): Linear(in_features=1, out_features=1, bias=True)\n",
       " ),\n",
       " OrderedDict([('linear_layer.weight', tensor([[0.7645]])),\n",
       "              ('linear_layer.bias', tensor([0.8300]))]))"
      ]
     },
     "execution_count": 111,
     "metadata": {},
     "output_type": "execute_result"
    }
   ],
   "source": [
    "class LinearRegressionModelV2(nn.Module):\n",
    "    def __init__(self):\n",
    "        super().__init__()\n",
    "        # Use nn.linear() for creating the model parameters\n",
    "        self.linear_layer = nn.Linear(in_features = 1, out_features = 1)\n",
    "\n",
    "    def forward(self, x: torch.Tensor) -> torch.Tensor:\n",
    "        return self.linear_layer(x)\n",
    "\n",
    "torch.manual_seed(42)\n",
    "model_1 = LinearRegressionModelV2()\n",
    "model_1, model_1.state_dict()"
   ]
  },
  {
   "cell_type": "code",
   "execution_count": 112,
   "id": "173ba619-799f-4908-954a-bc53bcab7767",
   "metadata": {},
   "outputs": [
    {
     "data": {
      "text/plain": [
       "device(type='cpu')"
      ]
     },
     "execution_count": 112,
     "metadata": {},
     "output_type": "execute_result"
    }
   ],
   "source": [
    "# Set model to GPU if it's availalble, otherwise it'll default to CPU\n",
    "model_1.to(device) # the device variable was set above to be \"cuda\" if available or \"cpu\" if not\n",
    "next(model_1.parameters()).device"
   ]
  },
  {
   "cell_type": "code",
   "execution_count": 113,
   "id": "182110a6-85e0-47c4-b78f-44c3c83f6a92",
   "metadata": {},
   "outputs": [],
   "source": [
    "loss_fn = nn.L1Loss()\n",
    "optimizer = torch.optim.SGD(params = model_1.parameters(), lr = 0.01)"
   ]
  },
  {
   "cell_type": "code",
   "execution_count": 109,
   "id": "25b6f23e-44e3-4402-ad2a-ebd6ef0b5af5",
   "metadata": {},
   "outputs": [
    {
     "ename": "SyntaxError",
     "evalue": "incomplete input (183498433.py, line 23)",
     "output_type": "error",
     "traceback": [
      "\u001b[1;36m  Cell \u001b[1;32mIn[109], line 23\u001b[1;36m\u001b[0m\n\u001b[1;33m    \u001b[0m\n\u001b[1;37m    ^\u001b[0m\n\u001b[1;31mSyntaxError\u001b[0m\u001b[1;31m:\u001b[0m incomplete input\n"
     ]
    }
   ],
   "source": [
    "torch.manual_seed(42)\n",
    "\n",
    "epochs = 1000\n",
    "\n",
    "X_train = X_train.to(device)\n",
    "X_test = X_test.to(device)\n",
    "y_train = y_train.to(device)\n",
    "y_test = y_test.to(device)\n",
    "\n",
    "for epoch in range(epochs):\n",
    "    model_1.train()\n",
    "    y_pred = model_1(X_train)\n",
    "    loss = loss_fn(y_pred, y_train)\n",
    "    optimizer.zero_grad()\n",
    "    loss.backward()\n",
    "    optimizer.step()\n",
    "    model_1.eval()\n",
    "    with torch.inference_model():\n",
    "        test_pred = model_1(X_test)\n",
    "        test_loss = loss_fn(test_pred, y_test)\n",
    "    if epoch % 100 == 0:\n",
    "        print(f\"{epoch} | Train loss: {loss} | Test loss: {test_loss}\"\n",
    "        "
   ]
  },
  {
   "cell_type": "code",
   "execution_count": 114,
   "id": "9a0c7672-f0d0-48b1-aa1b-4c31224c1e99",
   "metadata": {},
   "outputs": [
    {
     "name": "stdout",
     "output_type": "stream",
     "text": [
      "Epoch: 0 | Train loss: 0.5551779866218567 | Test loss: 0.5739762187004089\n",
      "Epoch: 100 | Train loss: 0.006215679459273815 | Test loss: 0.014086711220443249\n",
      "Epoch: 200 | Train loss: 0.0012645035749301314 | Test loss: 0.013801807537674904\n",
      "Epoch: 300 | Train loss: 0.0012645035749301314 | Test loss: 0.013801807537674904\n",
      "Epoch: 400 | Train loss: 0.0012645035749301314 | Test loss: 0.013801807537674904\n",
      "Epoch: 500 | Train loss: 0.0012645035749301314 | Test loss: 0.013801807537674904\n",
      "Epoch: 600 | Train loss: 0.0012645035749301314 | Test loss: 0.013801807537674904\n",
      "Epoch: 700 | Train loss: 0.0012645035749301314 | Test loss: 0.013801807537674904\n",
      "Epoch: 800 | Train loss: 0.0012645035749301314 | Test loss: 0.013801807537674904\n",
      "Epoch: 900 | Train loss: 0.0012645035749301314 | Test loss: 0.013801807537674904\n"
     ]
    }
   ],
   "source": [
    "torch.manual_seed(42)\n",
    "\n",
    "# Set the number of epochs \n",
    "epochs = 1000 \n",
    "\n",
    "# Put data on the available device\n",
    "# Without this, error will happen (not all model/data on device)\n",
    "X_train = X_train.to(device)\n",
    "X_test = X_test.to(device)\n",
    "y_train = y_train.to(device)\n",
    "y_test = y_test.to(device)\n",
    "\n",
    "for epoch in range(epochs):\n",
    "    ### Training\n",
    "    model_1.train() # train mode is on by default after construction\n",
    "\n",
    "    # 1. Forward pass\n",
    "    y_pred = model_1(X_train)\n",
    "\n",
    "    # 2. Calculate loss\n",
    "    loss = loss_fn(y_pred, y_train)\n",
    "\n",
    "    # 3. Zero grad optimizer\n",
    "    optimizer.zero_grad()\n",
    "\n",
    "    # 4. Loss backward\n",
    "    loss.backward()\n",
    "\n",
    "    # 5. Step the optimizer\n",
    "    optimizer.step()\n",
    "\n",
    "    ### Testing\n",
    "    model_1.eval() # put the model in evaluation mode for testing (inference)\n",
    "    # 1. Forward pass\n",
    "    with torch.inference_mode():\n",
    "        test_pred = model_1(X_test)\n",
    "    \n",
    "        # 2. Calculate the loss\n",
    "        test_loss = loss_fn(test_pred, y_test)\n",
    "\n",
    "    if epoch % 100 == 0:\n",
    "        print(f\"Epoch: {epoch} | Train loss: {loss} | Test loss: {test_loss}\")"
   ]
  },
  {
   "cell_type": "code",
   "execution_count": 116,
   "id": "97407a26-b30e-422e-a2d5-86c33460e762",
   "metadata": {},
   "outputs": [
    {
     "data": {
      "image/png": "[encoded data removed]",
      "text/plain": [
       "<Figure size 1000x700 with 1 Axes>"
      ]
     },
     "metadata": {},
     "output_type": "display_data"
    }
   ],
   "source": [
    "model_1.eval()\n",
    "\n",
    "with torch.inference_mode():\n",
    "    y_preds = model_1(X_test)\n",
    "y_preds\n",
    "\n",
    "plot_predictions(predictions = y_preds)"
   ]
  },
  {
   "cell_type": "code",
   "execution_count": null,
   "id": "4a32f49d-a372-419e-84b2-637d15017ab1",
   "metadata": {},
   "outputs": [],
   "source": []
  }
 ],
 "metadata": {
  "kernelspec": {
   "display_name": "Python 3 (ipykernel)",
   "language": "python",
   "name": "python3"
  },
  "language_info": {
   "codemirror_mode": {
    "name": "ipython",
    "version": 3
   },
   "file_extension": ".py",
   "mimetype": "text/x-python",
   "name": "python",
   "nbconvert_exporter": "python",
   "pygments_lexer": "ipython3",
   "version": "3.12.3"
  }
 },
 "nbformat": 4,
 "nbformat_minor": 5
}
